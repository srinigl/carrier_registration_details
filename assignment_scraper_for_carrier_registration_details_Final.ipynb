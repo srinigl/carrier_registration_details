{
 "cells": [
  {
   "cell_type": "code",
   "execution_count": 1,
   "metadata": {},
   "outputs": [],
   "source": [
    "from IPython.core.interactiveshell import InteractiveShell\n",
    "InteractiveShell.ast_node_interactivity = \"all\""
   ]
  },
  {
   "cell_type": "markdown",
   "metadata": {},
   "source": [
    "# <span style='color:Orange'> GOAL: prototype </span>\n",
    "#### Get detailed information about the types of cargo that an operator carries, as well as breakouts of the different vehicle types that operator uses"
   ]
  },
  {
   "cell_type": "markdown",
   "metadata": {},
   "source": [
    "## <span style='color:Pink'> Read the downloaded csv file </span> from below url\n",
    "* https://ai.fmcsa.dot.gov/SMS/Tools/Downloads.aspx\n",
    "* https://ai.fmcsa.dot.gov/SMS/Carrier/21800/CarrierRegistration.aspx\n",
    "* **Prototype :** Take a small sample dataset of (say) **5 rows** from the downloaded csv file for implementing the <span style='color:Blue'>Assignment</span>"
   ]
  },
  {
   "cell_type": "code",
   "execution_count": 2,
   "metadata": {},
   "outputs": [
    {
     "data": {
      "text/plain": [
       "pandas.core.frame.DataFrame"
      ]
     },
     "execution_count": 2,
     "metadata": {},
     "output_type": "execute_result"
    }
   ],
   "source": [
    "import pandas as pd\n",
    "\n",
    "url = \".\\census\\FMCSA_CENSUS1_2022Sep\\FMCSA_CENSUS1_2022Sep.csv\"\n",
    "# url = \"file_name_5rows.csv\"  #Read smaller file for prototype - 5 rows \n",
    "\n",
    "#Load the csv file - to scrape the \"Carrier Registration Details\" page.\n",
    "data = pd.read_csv(url, encoding= 'unicode_escape')\n",
    "type(data)"
   ]
  },
  {
   "cell_type": "markdown",
   "metadata": {},
   "source": [
    "## Analyze the schema of the csv, before parsing"
   ]
  },
  {
   "cell_type": "code",
   "execution_count": 3,
   "metadata": {},
   "outputs": [
    {
     "data": {
      "text/plain": [
       "29"
      ]
     },
     "execution_count": 3,
     "metadata": {},
     "output_type": "execute_result"
    },
    {
     "data": {
      "text/plain": [
       "Index(['DOT_NUMBER', 'LEGAL_NAME', 'DBA_NAME', 'CARRIER_OPERATION', 'HM_FLAG',\n",
       "       'PC_FLAG', 'PHY_STREET', 'PHY_CITY', 'PHY_STATE', 'PHY_ZIP',\n",
       "       'PHY_COUNTRY', 'MAILING_STREET', 'MAILING_CITY', 'MAILING_STATE',\n",
       "       'MAILING_ZIP', 'MAILING_COUNTRY', 'TELEPHONE', 'FAX', 'EMAIL_ADDRESS',\n",
       "       'MCS150_DATE', 'MCS150_MILEAGE', 'MCS150_MILEAGE_YEAR', 'ADD_DATE',\n",
       "       'OIC_STATE', 'NBR_POWER_UNIT', 'DRIVER_TOTAL', 'RECENT_MILEAGE',\n",
       "       'RECENT_MILEAGE_YEAR', 'VMT_SOURCE_ID'],\n",
       "      dtype='object')"
      ]
     },
     "execution_count": 3,
     "metadata": {},
     "output_type": "execute_result"
    }
   ],
   "source": [
    "len(data.columns)\n",
    "data.columns"
   ]
  },
  {
   "cell_type": "code",
   "execution_count": 4,
   "metadata": {},
   "outputs": [
    {
     "data": {
      "text/plain": [
       "DOT_NUMBER               int64\n",
       "LEGAL_NAME              object\n",
       "DBA_NAME                object\n",
       "CARRIER_OPERATION       object\n",
       "HM_FLAG                 object\n",
       "PC_FLAG                 object\n",
       "PHY_STREET              object\n",
       "PHY_CITY                object\n",
       "PHY_STATE               object\n",
       "PHY_ZIP                 object\n",
       "PHY_COUNTRY             object\n",
       "MAILING_STREET          object\n",
       "MAILING_CITY            object\n",
       "MAILING_STATE           object\n",
       "MAILING_ZIP             object\n",
       "MAILING_COUNTRY         object\n",
       "TELEPHONE               object\n",
       "FAX                     object\n",
       "EMAIL_ADDRESS           object\n",
       "MCS150_DATE             object\n",
       "MCS150_MILEAGE         float64\n",
       "MCS150_MILEAGE_YEAR    float64\n",
       "ADD_DATE                object\n",
       "OIC_STATE               object\n",
       "NBR_POWER_UNIT         float64\n",
       "DRIVER_TOTAL           float64\n",
       "RECENT_MILEAGE           int64\n",
       "RECENT_MILEAGE_YEAR      int64\n",
       "VMT_SOURCE_ID          float64\n",
       "dtype: object"
      ]
     },
     "execution_count": 4,
     "metadata": {},
     "output_type": "execute_result"
    }
   ],
   "source": [
    "data.dtypes"
   ]
  },
  {
   "cell_type": "markdown",
   "metadata": {},
   "source": [
    "## Total number of Rows and Columns"
   ]
  },
  {
   "cell_type": "code",
   "execution_count": 5,
   "metadata": {},
   "outputs": [
    {
     "data": {
      "text/plain": [
       "(2010116, 29)"
      ]
     },
     "execution_count": 5,
     "metadata": {},
     "output_type": "execute_result"
    }
   ],
   "source": [
    "pd.options.display.max_rows = 10\n",
    "data.shape"
   ]
  },
  {
   "cell_type": "markdown",
   "metadata": {},
   "source": [
    "## Sample Data"
   ]
  },
  {
   "cell_type": "code",
   "execution_count": 6,
   "metadata": {},
   "outputs": [
    {
     "data": {
      "text/html": [
       "<div>\n",
       "<style scoped>\n",
       "    .dataframe tbody tr th:only-of-type {\n",
       "        vertical-align: middle;\n",
       "    }\n",
       "\n",
       "    .dataframe tbody tr th {\n",
       "        vertical-align: top;\n",
       "    }\n",
       "\n",
       "    .dataframe thead th {\n",
       "        text-align: right;\n",
       "    }\n",
       "</style>\n",
       "<table border=\"1\" class=\"dataframe\">\n",
       "  <thead>\n",
       "    <tr style=\"text-align: right;\">\n",
       "      <th></th>\n",
       "      <th>DOT_NUMBER</th>\n",
       "      <th>LEGAL_NAME</th>\n",
       "      <th>DBA_NAME</th>\n",
       "      <th>CARRIER_OPERATION</th>\n",
       "      <th>HM_FLAG</th>\n",
       "      <th>PC_FLAG</th>\n",
       "      <th>PHY_STREET</th>\n",
       "      <th>PHY_CITY</th>\n",
       "      <th>PHY_STATE</th>\n",
       "      <th>PHY_ZIP</th>\n",
       "      <th>...</th>\n",
       "      <th>MCS150_DATE</th>\n",
       "      <th>MCS150_MILEAGE</th>\n",
       "      <th>MCS150_MILEAGE_YEAR</th>\n",
       "      <th>ADD_DATE</th>\n",
       "      <th>OIC_STATE</th>\n",
       "      <th>NBR_POWER_UNIT</th>\n",
       "      <th>DRIVER_TOTAL</th>\n",
       "      <th>RECENT_MILEAGE</th>\n",
       "      <th>RECENT_MILEAGE_YEAR</th>\n",
       "      <th>VMT_SOURCE_ID</th>\n",
       "    </tr>\n",
       "  </thead>\n",
       "  <tbody>\n",
       "    <tr>\n",
       "      <th>0</th>\n",
       "      <td>1</td>\n",
       "      <td>FEDERAL MOTOR CARRIER SAFETY ADMINISTRATION</td>\n",
       "      <td>FMCSA TECHNOLOGY DIVISION</td>\n",
       "      <td>A</td>\n",
       "      <td>N</td>\n",
       "      <td>N</td>\n",
       "      <td>1200 NEW JERSEY AVENUE SE</td>\n",
       "      <td>WASHINGTON</td>\n",
       "      <td>DC</td>\n",
       "      <td>20590</td>\n",
       "      <td>...</td>\n",
       "      <td>23-SEP-21</td>\n",
       "      <td>3000.0</td>\n",
       "      <td>2020.0</td>\n",
       "      <td>01-JUN-74</td>\n",
       "      <td>DC</td>\n",
       "      <td>4.0</td>\n",
       "      <td>3.0</td>\n",
       "      <td>3000</td>\n",
       "      <td>2020</td>\n",
       "      <td>1.0</td>\n",
       "    </tr>\n",
       "    <tr>\n",
       "      <th>1</th>\n",
       "      <td>10000</td>\n",
       "      <td>POWELL DISTRIBUTING CO INC</td>\n",
       "      <td>NaN</td>\n",
       "      <td>A</td>\n",
       "      <td>N</td>\n",
       "      <td>N</td>\n",
       "      <td>NaN</td>\n",
       "      <td>NaN</td>\n",
       "      <td>NaN</td>\n",
       "      <td>NaN</td>\n",
       "      <td>...</td>\n",
       "      <td>04-MAR-22</td>\n",
       "      <td>16932.0</td>\n",
       "      <td>2021.0</td>\n",
       "      <td>01-JUN-74</td>\n",
       "      <td>OR</td>\n",
       "      <td>1.0</td>\n",
       "      <td>1.0</td>\n",
       "      <td>16932</td>\n",
       "      <td>2021</td>\n",
       "      <td>1.0</td>\n",
       "    </tr>\n",
       "    <tr>\n",
       "      <th>2</th>\n",
       "      <td>1000000</td>\n",
       "      <td>JAMES EARL KILLINGSWORTH JR</td>\n",
       "      <td>JAMES KILLINGSWORTH TRUCKING</td>\n",
       "      <td>A</td>\n",
       "      <td>N</td>\n",
       "      <td>N</td>\n",
       "      <td>15 GASLINE ROAD</td>\n",
       "      <td>PHENIX CITY</td>\n",
       "      <td>AL</td>\n",
       "      <td>36870</td>\n",
       "      <td>...</td>\n",
       "      <td>06-AUG-22</td>\n",
       "      <td>1.0</td>\n",
       "      <td>2020.0</td>\n",
       "      <td>23-JAN-02</td>\n",
       "      <td>AL</td>\n",
       "      <td>1.0</td>\n",
       "      <td>1.0</td>\n",
       "      <td>1</td>\n",
       "      <td>2020</td>\n",
       "      <td>1.0</td>\n",
       "    </tr>\n",
       "    <tr>\n",
       "      <th>3</th>\n",
       "      <td>1000002</td>\n",
       "      <td>NEW JERSEY BOOM &amp; ERECTORS INC</td>\n",
       "      <td>NaN</td>\n",
       "      <td>A</td>\n",
       "      <td>N</td>\n",
       "      <td>N</td>\n",
       "      <td>NaN</td>\n",
       "      <td>NaN</td>\n",
       "      <td>NaN</td>\n",
       "      <td>NaN</td>\n",
       "      <td>...</td>\n",
       "      <td>19-JUL-22</td>\n",
       "      <td>42000.0</td>\n",
       "      <td>2021.0</td>\n",
       "      <td>22-JAN-02</td>\n",
       "      <td>PA</td>\n",
       "      <td>1.0</td>\n",
       "      <td>1.0</td>\n",
       "      <td>42000</td>\n",
       "      <td>2021</td>\n",
       "      <td>1.0</td>\n",
       "    </tr>\n",
       "    <tr>\n",
       "      <th>4</th>\n",
       "      <td>1000004</td>\n",
       "      <td>RAY TRUCKING LLC</td>\n",
       "      <td>NaN</td>\n",
       "      <td>C</td>\n",
       "      <td>N</td>\n",
       "      <td>N</td>\n",
       "      <td>218 PEACHTREE ST</td>\n",
       "      <td>WARWICK</td>\n",
       "      <td>GA</td>\n",
       "      <td>31796</td>\n",
       "      <td>...</td>\n",
       "      <td>30-APR-22</td>\n",
       "      <td>100.0</td>\n",
       "      <td>2022.0</td>\n",
       "      <td>22-JAN-02</td>\n",
       "      <td>GA</td>\n",
       "      <td>2.0</td>\n",
       "      <td>1.0</td>\n",
       "      <td>100</td>\n",
       "      <td>2022</td>\n",
       "      <td>1.0</td>\n",
       "    </tr>\n",
       "  </tbody>\n",
       "</table>\n",
       "<p>5 rows × 29 columns</p>\n",
       "</div>"
      ],
      "text/plain": [
       "   DOT_NUMBER                                   LEGAL_NAME  \\\n",
       "0           1  FEDERAL MOTOR CARRIER SAFETY ADMINISTRATION   \n",
       "1       10000                   POWELL DISTRIBUTING CO INC   \n",
       "2     1000000                  JAMES EARL KILLINGSWORTH JR   \n",
       "3     1000002               NEW JERSEY BOOM & ERECTORS INC   \n",
       "4     1000004                             RAY TRUCKING LLC   \n",
       "\n",
       "                       DBA_NAME CARRIER_OPERATION HM_FLAG PC_FLAG  \\\n",
       "0     FMCSA TECHNOLOGY DIVISION                 A       N       N   \n",
       "1                           NaN                 A       N       N   \n",
       "2  JAMES KILLINGSWORTH TRUCKING                 A       N       N   \n",
       "3                           NaN                 A       N       N   \n",
       "4                           NaN                 C       N       N   \n",
       "\n",
       "                  PHY_STREET     PHY_CITY PHY_STATE PHY_ZIP  ... MCS150_DATE  \\\n",
       "0  1200 NEW JERSEY AVENUE SE   WASHINGTON        DC   20590  ...   23-SEP-21   \n",
       "1                        NaN          NaN       NaN     NaN  ...   04-MAR-22   \n",
       "2            15 GASLINE ROAD  PHENIX CITY        AL   36870  ...   06-AUG-22   \n",
       "3                        NaN          NaN       NaN     NaN  ...   19-JUL-22   \n",
       "4           218 PEACHTREE ST      WARWICK        GA   31796  ...   30-APR-22   \n",
       "\n",
       "  MCS150_MILEAGE MCS150_MILEAGE_YEAR   ADD_DATE OIC_STATE NBR_POWER_UNIT  \\\n",
       "0         3000.0              2020.0  01-JUN-74        DC            4.0   \n",
       "1        16932.0              2021.0  01-JUN-74        OR            1.0   \n",
       "2            1.0              2020.0  23-JAN-02        AL            1.0   \n",
       "3        42000.0              2021.0  22-JAN-02        PA            1.0   \n",
       "4          100.0              2022.0  22-JAN-02        GA            2.0   \n",
       "\n",
       "  DRIVER_TOTAL RECENT_MILEAGE RECENT_MILEAGE_YEAR VMT_SOURCE_ID  \n",
       "0          3.0           3000                2020           1.0  \n",
       "1          1.0          16932                2021           1.0  \n",
       "2          1.0              1                2020           1.0  \n",
       "3          1.0          42000                2021           1.0  \n",
       "4          1.0            100                2022           1.0  \n",
       "\n",
       "[5 rows x 29 columns]"
      ]
     },
     "execution_count": 6,
     "metadata": {},
     "output_type": "execute_result"
    }
   ],
   "source": [
    "df=data.head(5)\n",
    "pd.options.display.max_rows = 5\n",
    "df"
   ]
  },
  {
   "cell_type": "markdown",
   "metadata": {},
   "source": [
    "##  get the  <span style='color:Blue'>Carrier Details</span> page for each operator\n",
    "\n",
    "* **note the structure from the URL** https://ai.fmcsa.dot.gov/SMS/Carrier/[DOT_NUMBER]/CarrierRegistration.aspx"
   ]
  },
  {
   "cell_type": "code",
   "execution_count": 7,
   "metadata": {},
   "outputs": [],
   "source": [
    "def prepareUrl(dotId):\n",
    "    url = 'https://ai.fmcsa.dot.gov/SMS/Carrier/'+str(dotId)+'/CarrierRegistration.aspx'\n",
    "    return url"
   ]
  },
  {
   "cell_type": "markdown",
   "metadata": {},
   "source": [
    "## Web Scraping - API\n",
    "\n",
    "* Use the <span style='color:Blue'>BeautifulSoup</span> library to parse this document, and extract the text "
   ]
  },
  {
   "cell_type": "code",
   "execution_count": 8,
   "metadata": {},
   "outputs": [],
   "source": [
    "import csv\n",
    "import requests\n",
    "from bs4 import BeautifulSoup"
   ]
  },
  {
   "cell_type": "code",
   "execution_count": 9,
   "metadata": {},
   "outputs": [],
   "source": [
    "def getSoupExtract(url):\n",
    "    HTMLFileToBeOpened = open(url, \"r\")\n",
    "    contents = HTMLFileToBeOpened.read()\n",
    "    beautifulSoupText = BeautifulSoup(contents, 'html.parser')\n",
    "    return beautifulSoupText"
   ]
  },
  {
   "cell_type": "markdown",
   "metadata": {},
   "source": [
    "## findCargoNames()\n",
    "* Extract/Pull the lists of **cargo** carried \n",
    "* return cargoVehcleRow -- Row of data associated to one **vehicle Operator**"
   ]
  },
  {
   "cell_type": "code",
   "execution_count": 10,
   "metadata": {},
   "outputs": [],
   "source": [
    "def findCargoNames(cargoVehcleRow,beautifulSoupText):\n",
    "    job_elements = beautifulSoupText.find_all(\"ul\", class_=\"cargo\")\n",
    "    for job_element in job_elements:\n",
    "        cargos = \"\"\n",
    "        checked_cargo_elements = job_element.find_all(\"li\", class_=\"checked\")\n",
    "        for cargo_element in checked_cargo_elements:\n",
    "            cargo_name = cargo_element.find(text=True, recursive=False)\n",
    "            if not cargos:\n",
    "                cargos = \"'\"+cargo_name+\"'\"\n",
    "            else:\n",
    "                cargos = cargos +\" | \" +\"'\"+cargo_name+\"'\"\n",
    "\n",
    "#         print(cargos)\n",
    "        cargoVehcleRow.append(cargos)"
   ]
  },
  {
   "cell_type": "markdown",
   "metadata": {},
   "source": [
    "## findVehicletype()\n",
    "* Extract/Pull the lists of the **vehicle type** carried \n",
    "* return cargoVehcleRow -- Row of data associated to one **vehicle Operator**"
   ]
  },
  {
   "cell_type": "code",
   "execution_count": 11,
   "metadata": {},
   "outputs": [],
   "source": [
    "def findVehicletype(cargoVehcleRow,beautifulSoupText):\n",
    "    veh_elements = beautifulSoupText.find_all(\"th\", class_=\"vehType\")\n",
    "    vehicles = \"\"\n",
    "    for veh_element in veh_elements:\n",
    "        vehicle_elements = veh_element.find_next_siblings(\"td\")\n",
    "        for vehicle_element in vehicle_elements:\n",
    "            if(vehicle_element.text == '1'):\n",
    "                vehicle_name = veh_element.find(text=True, recursive=False)\n",
    "                vehicle_name = vehicle_name.replace('*','')\n",
    "                if not vehicles:\n",
    "                    vehicles = \"'\"+vehicle_name+\"'\"\n",
    "                else:\n",
    "                    vehicles = vehicles +\" | \" +\"'\"+vehicle_name+\"'\"\n",
    "\n",
    "#     print(vehicles)\n",
    "    cargoVehcleRow.append(vehicles)"
   ]
  },
  {
   "cell_type": "markdown",
   "metadata": {},
   "source": [
    "## writeToCSV()\n",
    "* Write the output of one Operator into a separate csv file. Example: 1000000.csv\n",
    "* NOTE: Syntax: <span style='color:Pink'>DOT_NUMBER.csv</span>\n",
    "* Write output: <span style='color:Blue'> ONE csv per DOT_NUMBER</span>"
   ]
  },
  {
   "cell_type": "code",
   "execution_count": 12,
   "metadata": {},
   "outputs": [],
   "source": [
    "def writeToCSV(cargoVehcleRow,filename):\n",
    "    rows = []\n",
    "    rows.append(cargoVehcleRow)\n",
    "\n",
    "    fields = ['CARGO_CARRIED', 'VEHICLE_TYPE']\n",
    "    \n",
    "    # writing to csv file\n",
    "    with open(filename, 'w',newline='') as csvfile:\n",
    "        # create a csv writer object\n",
    "        csvwriter = csv.writer(csvfile)\n",
    "\n",
    "        # Write the fields/Header into CSV\n",
    "        csvwriter.writerow(fields)\n",
    "\n",
    "        # Write the data rows into CSV\n",
    "        csvwriter.writerows(rows)"
   ]
  },
  {
   "cell_type": "markdown",
   "metadata": {},
   "source": [
    "## extractDataAndWriteToCSVFile()\n",
    "* <span style='color:Blue'>The Driver method</span>"
   ]
  },
  {
   "cell_type": "code",
   "execution_count": 13,
   "metadata": {},
   "outputs": [],
   "source": [
    "\n",
    "def extractDataAndWriteToCSVFile(url,filename):\n",
    "    # print(url)\n",
    "    \n",
    "    # Reading from website link\n",
    "    page = requests.get(url)\n",
    "    beautifulSoupText = BeautifulSoup(page.content, \"html.parser\")\n",
    "    \n",
    "    # Define rows data\n",
    "    cargoVehcleRow = []\n",
    "    \n",
    "    #  Finding Cargo names and preparing comma separated string\n",
    "    findCargoNames(cargoVehcleRow,beautifulSoupText)\n",
    "    ##print(\"1.CargoNames: --------------->\",cargoVehcleRow)\n",
    "    # Finding Vehicle type\n",
    "    findVehicletype(cargoVehcleRow,beautifulSoupText)\n",
    "    ##print(\"2.Vehicletype: --------------->\",cargoVehcleRow)\n",
    "    # Writing into CSV file\n",
    "    writeToCSV(cargoVehcleRow,filename)\n",
    "    "
   ]
  },
  {
   "cell_type": "markdown",
   "metadata": {},
   "source": [
    "### Iterate over every record in dataframe and prepare an output csv file for each Operator"
   ]
  },
  {
   "cell_type": "code",
   "execution_count": 14,
   "metadata": {},
   "outputs": [
    {
     "name": "stdout",
     "output_type": "stream",
     "text": [
      "CSV created successfully for: 1\n",
      "CSV created successfully for: 10000\n",
      "CSV created successfully for: 1000000\n",
      "CSV created successfully for: 1000002\n",
      "CSV created successfully for: 1000004\n"
     ]
    }
   ],
   "source": [
    "# Iterate over every record in dataframe and prepare a csv file for each Operator\n",
    "for i in range(len(df)):\n",
    "    dotId = df.iloc[i, 0]\n",
    "    url = prepareUrl(dotId)\n",
    "    dotIdStr = str(dotId)\n",
    "    extractDataAndWriteToCSVFile(url,dotIdStr+\".csv\")\n",
    "    print(\"CSV created successfully for: \"+dotIdStr)"
   ]
  },
  {
   "cell_type": "markdown",
   "metadata": {},
   "source": [
    "## Now we have multiple Output CSV\n",
    "* pull the lists of cargo carried as well as the vehicle type breakout table -- is  <span style='color:Green'>completed Successful</span>"
   ]
  }
 ],
 "metadata": {
  "kernelspec": {
   "display_name": "Python 3",
   "language": "python",
   "name": "python3"
  },
  "language_info": {
   "codemirror_mode": {
    "name": "ipython",
    "version": 3
   },
   "file_extension": ".py",
   "mimetype": "text/x-python",
   "name": "python",
   "nbconvert_exporter": "python",
   "pygments_lexer": "ipython3",
   "version": "3.7.6"
  }
 },
 "nbformat": 4,
 "nbformat_minor": 4
}
